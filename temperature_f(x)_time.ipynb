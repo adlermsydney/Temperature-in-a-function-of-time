{
 "cells": [
  {
   "cell_type": "markdown",
   "id": "cbec7aa5-e82a-4633-9986-cc8fee1ac2ee",
   "metadata": {},
   "source": [
    "Use of raspberry pi with connecting sensor DS18B20 to take temperature readings"
   ]
  },
  {
   "cell_type": "code",
   "execution_count": null,
   "id": "3614d791-2b6b-4c50-b27a-2e00907cbc30",
   "metadata": {},
   "outputs": [],
   "source": [
    "#This program will allow the user to take a temperature reading in a function of time using a Rasberry Pi temperature sensor.\n",
    "import the w1thermsensor module\n",
    "#create a loop for the sensor to collect temperature readings every 5 seconds\n",
    "while true\n",
    "#Get temperature reading from sensor- is indented to show it belongs in the loop. Function in w1thermsensor module.\n",
    "    temperature = sensor.get_temperature()\n",
    "#Get a reading in a floating number form (%) in celcius\n",
    "    print(\"The temperature is % degrees celcius\" % temperature)\n",
    "#The time between each reading is collected 30 seconds apart. \n",
    "    time.sleep(30)\n",
    "#When running the code, each value should show up every 30 seconds in the form of \"The temperature is % degrees celcius\""
   ]
  },
  {
   "cell_type": "code",
   "execution_count": null,
   "id": "ea54a47c-6e92-4be3-8d5b-ee00812e49b9",
   "metadata": {},
   "outputs": [],
   "source": [
    "#Make a table using the temperature values"
   ]
  }
 ],
 "metadata": {
  "kernelspec": {
   "display_name": "Python 3 (ipykernel)",
   "language": "python",
   "name": "python3"
  },
  "language_info": {
   "codemirror_mode": {
    "name": "ipython",
    "version": 3
   },
   "file_extension": ".py",
   "mimetype": "text/x-python",
   "name": "python",
   "nbconvert_exporter": "python",
   "pygments_lexer": "ipython3",
   "version": "3.11.0"
  }
 },
 "nbformat": 4,
 "nbformat_minor": 5
}
