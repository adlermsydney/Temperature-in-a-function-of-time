{
 "cells": [
  {
   "cell_type": "markdown",
   "id": "9bf8d129-be6d-4d10-b1b3-1b5200eb367a",
   "metadata": {},
   "source": []
  },
  {
   "cell_type": "code",
   "execution_count": null,
   "id": "3614d791-2b6b-4c50-b27a-2e00907cbc30",
   "metadata": {},
   "outputs": [],
   "source": [
    "#This program will allow the user to take a temperature reading in a function of time using a Rasberry Pi temperature sensor.\n",
    "import the w1thermsensor module\n"
   ]
  },
  {
   "cell_type": "code",
   "execution_count": null,
   "id": "ea54a47c-6e92-4be3-8d5b-ee00812e49b9",
   "metadata": {},
   "outputs": [],
   "source": [
    "#Make a table using the temperature values"
   ]
  }
 ],
 "metadata": {
  "kernelspec": {
   "display_name": "Python 3 (ipykernel)",
   "language": "python",
   "name": "python3"
  },
  "language_info": {
   "codemirror_mode": {
    "name": "ipython",
    "version": 3
   },
   "file_extension": ".py",
   "mimetype": "text/x-python",
   "name": "python",
   "nbconvert_exporter": "python",
   "pygments_lexer": "ipython3",
   "version": "3.11.0"
  }
 },
 "nbformat": 4,
 "nbformat_minor": 5
}
